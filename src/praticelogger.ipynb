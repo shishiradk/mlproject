{
 "cells": [
  {
   "cell_type": "code",
   "execution_count": 1,
   "id": "d83702d3",
   "metadata": {},
   "outputs": [],
   "source": [
    "#creating basic logger\n",
    "import logging\n",
    "\n",
    "def basic_logger():\n",
    "    logging.basicConfig(filename='app2.log', level=logging.DEBUG)\n",
    "    logging.debug('This is a debug message')\n",
    "    logging.info('This is an info message')\n",
    "    logging.warning('This is a warning message')\n",
    "    logging.error('This is an error message')\n",
    "    logging.critical('This is a critical message')\n",
    "\n",
    "# Test the function\n",
    "basic_logger()"
   ]
  },
  {
   "cell_type": "code",
   "execution_count": 4,
   "id": "723f6e40",
   "metadata": {},
   "outputs": [
    {
     "name": "stderr",
     "output_type": "stream",
     "text": [
      "2025-05-22 18:46:18,344 - my_logger - DEBUG - This is a debug message\n",
      "2025-05-22 18:46:18,344 - my_logger - DEBUG - This is a debug message\n",
      "2025-05-22 18:46:18,344 - my_logger - DEBUG - This is a debug message\n",
      "2025-05-22 18:46:18,346 - my_logger - INFO - This is an info message\n",
      "2025-05-22 18:46:18,346 - my_logger - INFO - This is an info message\n",
      "2025-05-22 18:46:18,346 - my_logger - INFO - This is an info message\n",
      "2025-05-22 18:46:18,349 - my_logger - WARNING - This is a warning message\n",
      "2025-05-22 18:46:18,349 - my_logger - WARNING - This is a warning message\n",
      "2025-05-22 18:46:18,349 - my_logger - WARNING - This is a warning message\n",
      "2025-05-22 18:46:18,352 - my_logger - ERROR - This is an error message\n",
      "2025-05-22 18:46:18,352 - my_logger - ERROR - This is an error message\n",
      "2025-05-22 18:46:18,352 - my_logger - ERROR - This is an error message\n",
      "2025-05-22 18:46:18,354 - my_logger - CRITICAL - This is a critical message\n",
      "2025-05-22 18:46:18,354 - my_logger - CRITICAL - This is a critical message\n",
      "2025-05-22 18:46:18,354 - my_logger - CRITICAL - This is a critical message\n"
     ]
    }
   ],
   "source": [
    "##creating a logger that message to both a file amed aap2.log and the console\n",
    "def logger_with_handlers():\n",
    "    logger = logging.getLogger('my_logger')\n",
    "    logger.setLevel(logging.DEBUG)\n",
    "    \n",
    "    file_handler = logging.FileHandler('app.log')\n",
    "    console_handler = logging.StreamHandler()\n",
    "    \n",
    "    file_handler.setLevel(logging.DEBUG)\n",
    "    console_handler.setLevel(logging.DEBUG)\n",
    "    \n",
    "    formatter = logging.Formatter('%(asctime)s - %(name)s - %(levelname)s - %(message)s')\n",
    "    file_handler.setFormatter(formatter)\n",
    "    console_handler.setFormatter(formatter)\n",
    "    \n",
    "    logger.addHandler(file_handler)\n",
    "    logger.addHandler(console_handler)\n",
    "    \n",
    "    logger.debug('This is a debug message')\n",
    "    logger.info('This is an info message')\n",
    "    logger.warning('This is a warning message')\n",
    "    logger.error('This is an error message')\n",
    "    logger.critical('This is a critical message')\n",
    "\n",
    "# Test the function\n",
    "logger_with_handlers()"
   ]
  }
 ],
 "metadata": {
  "kernelspec": {
   "display_name": "Python 3",
   "language": "python",
   "name": "python3"
  },
  "language_info": {
   "codemirror_mode": {
    "name": "ipython",
    "version": 3
   },
   "file_extension": ".py",
   "mimetype": "text/x-python",
   "name": "python",
   "nbconvert_exporter": "python",
   "pygments_lexer": "ipython3",
   "version": "3.13.3"
  }
 },
 "nbformat": 4,
 "nbformat_minor": 5
}
